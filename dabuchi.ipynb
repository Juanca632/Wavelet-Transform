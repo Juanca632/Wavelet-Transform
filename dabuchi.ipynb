{
 "cells": [
  {
   "attachments": {},
   "cell_type": "markdown",
   "metadata": {},
   "source": [
    "# The Daubechies D4 Wavelet Tranform"
   ]
  },
  {
   "cell_type": "code",
   "execution_count": 85,
   "metadata": {},
   "outputs": [],
   "source": [
    "import numpy as np\n",
    "\n",
    "root2, root3 = np.sqrt(2), np.sqrt(3) \n",
    "\n",
    "# h0 = (1 + root3) / (4 * root2)\n",
    "# h1 = (3 + root3) / (4 * root2)\n",
    "# h2 = (3 - root3) / (4 * root2)\n",
    "# h3 = (1 - root3) / (4 * root2)\n",
    "# h_coeffs = np.array([h0,h1,h2,h3])\n",
    "\n",
    "# g0 = h3\n",
    "# g1 = -h2\n",
    "# g2 = h1\n",
    "# g3 = -h0\n",
    "# g_coeffs = np.array([g0,g1,g2,g3])\n",
    "\n",
    "h_coeffs = np.array([(1 + root3) / (4 * root2),\n",
    "                     (3 + root3) / (4 * root2),\n",
    "                     (3 - root3) / (4 * root2),\n",
    "                     (1 - root3) / (4 * root2)])\n",
    "\n",
    "g_coeffs = np.array([h_coeffs[3], -h_coeffs[2], h_coeffs[1], -h_coeffs[0]])\n",
    "\n",
    "daubechies_4 = np.zeros((8, 8))"
   ]
  },
  {
   "cell_type": "code",
   "execution_count": 86,
   "metadata": {},
   "outputs": [],
   "source": [
    "def daubechies4_wavelet_transform_2D(image): # ESTE FUNCIONA\n",
    "    rows, cols = image.shape\n",
    "    matrix_coeffs = np.zeros((rows, cols))\n",
    "\n",
    "    for i in range(rows // 2):\n",
    "        if i < rows // 2 - 1:\n",
    "            matrix_coeffs[i, 2 * i:2 * i + 4] = h_coeffs\n",
    "        else:\n",
    "            matrix_coeffs[i, 2 * i:2 * i + 2] = h_coeffs[:2]\n",
    "            matrix_coeffs[i, 0:2] = h_coeffs[2:]\n",
    "\n",
    "    for i in range(rows // 2):\n",
    "        if i < rows // 2 - 1:\n",
    "            matrix_coeffs[i + rows // 2, 2 * i:2 * i + 4] = g_coeffs\n",
    "        else:\n",
    "            matrix_coeffs[i + rows // 2, 2 * i:2 * i + 2] = g_coeffs[:2]\n",
    "            matrix_coeffs[i + rows // 2, 0:2] = g_coeffs[2:]\n",
    "\n",
    "    return(np.round(matrix_coeffs, 3))"
   ]
  },
  {
   "cell_type": "code",
   "execution_count": 87,
   "metadata": {},
   "outputs": [
    {
     "name": "stdout",
     "output_type": "stream",
     "text": [
      "[[ 0.483  0.837  0.224 -0.129  0.     0.     0.     0.   ]\n",
      " [ 0.     0.     0.483  0.837  0.224 -0.129  0.     0.   ]\n",
      " [ 0.     0.     0.     0.     0.483  0.837  0.224 -0.129]\n",
      " [ 0.224 -0.129  0.     0.     0.     0.     0.483  0.837]\n",
      " [-0.129 -0.224  0.837 -0.483  0.     0.     0.     0.   ]\n",
      " [ 0.     0.    -0.129 -0.224  0.837 -0.483  0.     0.   ]\n",
      " [ 0.     0.     0.     0.    -0.129 -0.224  0.837 -0.483]\n",
      " [ 0.837 -0.483  0.     0.     0.     0.    -0.129 -0.224]]\n"
     ]
    }
   ],
   "source": [
    "daubechies_4 = daubechies4_wavelet_transform_2D(daubechies_4)\n",
    "print(daubechies_4)\n",
    "column = np.array([32, 32, 16, 8, 24, 16, 64, 32])"
   ]
  },
  {
   "cell_type": "code",
   "execution_count": 91,
   "metadata": {},
   "outputs": [
    {
     "name": "stdout",
     "output_type": "stream",
     "text": [
      "[[ 15.456  26.784   7.168  -4.128   0.      0.      0.      0.   ]\n",
      " [  0.      0.     15.456  26.784   7.168  -4.128   0.      0.   ]\n",
      " [  0.      0.      0.      0.      7.728  13.392   3.584  -2.064]\n",
      " [  1.792  -1.032   0.      0.      0.      0.      3.864   6.696]\n",
      " [ -3.096  -5.376  20.088 -11.592   0.      0.      0.      0.   ]\n",
      " [  0.      0.     -2.064  -3.584  13.392  -7.728   0.      0.   ]\n",
      " [  0.      0.      0.      0.     -8.256 -14.336  53.568 -30.912]\n",
      " [ 26.784 -15.456   0.      0.      0.      0.     -4.128  -7.168]]\n"
     ]
    }
   ],
   "source": [
    "# Obtener el número de filas de la matriz\n",
    "num_filas = daubechies_4.shape[0]\n",
    "\n",
    "# Crear una daubechies_4 vacía para almacenar el resultado\n",
    "resultado = np.zeros_like(daubechies_4)\n",
    "\n",
    "# Realizar la multiplicación de cada fila de la daubechies_4 por el valor correspondiente del vector\n",
    "for fila in range(num_filas):\n",
    "    resultado[fila, :] = daubechies_4[fila, :] * column[fila]\n",
    "\n",
    "\n",
    "print(resultado)"
   ]
  },
  {
   "attachments": {},
   "cell_type": "markdown",
   "metadata": {},
   "source": [
    "## IMAGES EXAMPLES"
   ]
  },
  {
   "cell_type": "code",
   "execution_count": 89,
   "metadata": {},
   "outputs": [],
   "source": [
    "import cv2\n",
    "import IPython\n",
    "from PIL import Image\n",
    "import matplotlib.pyplot as plt\n",
    "\n",
    "def imshow(image, width=None):\n",
    "    _, ret = cv2.imencode('.jpg', image)\n",
    "    i = IPython.display.Image(data=ret, width=width)\n",
    "    IPython.display.display(i)\n",
    "\n",
    "def jpg_to_pgm(jpg_path):\n",
    "    image = Image.open(jpg_path)\n",
    "    image_gray = image.convert('L')\n",
    "    width = image_gray.size[0]\n",
    "    if (width>512):\n",
    "        image_gray = image_gray.resize((512, 512))\n",
    "        pixels = list(image_gray.getdata())\n",
    "\n",
    "    else: pixels = list(image_gray.getdata())\n",
    "\n",
    "    return np.array(pixels).reshape((512, 512))\n",
    "\n",
    "def p_new(matrix):\n",
    "    max,min  = np.max(matrix), np.min(matrix)\n",
    "    for i in range(len(matrix)):\n",
    "        for j in range(len(matrix[i])):\n",
    "            matrix[i][j] = ((matrix[i][j]-min)*255.0)/(max-min)\n",
    "    return matrix"
   ]
  },
  {
   "cell_type": "code",
   "execution_count": null,
   "metadata": {},
   "outputs": [],
   "source": []
  }
 ],
 "metadata": {
  "kernelspec": {
   "display_name": "Python 3",
   "language": "python",
   "name": "python3"
  },
  "language_info": {
   "codemirror_mode": {
    "name": "ipython",
    "version": 3
   },
   "file_extension": ".py",
   "mimetype": "text/x-python",
   "name": "python",
   "nbconvert_exporter": "python",
   "pygments_lexer": "ipython3",
   "version": "3.10.11"
  },
  "orig_nbformat": 4
 },
 "nbformat": 4,
 "nbformat_minor": 2
}
