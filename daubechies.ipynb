{
 "cells": [
  {
   "attachments": {},
   "cell_type": "markdown",
   "metadata": {},
   "source": [
    "# The Daubechies D4 Wavelet Tranform"
   ]
  },
  {
   "cell_type": "code",
   "execution_count": 17,
   "metadata": {},
   "outputs": [],
   "source": [
    "import numpy as np\n",
    "import cv2\n",
    "import IPython\n",
    "from PIL import Image\n",
    "import matplotlib.pyplot as plt\n",
    "from time import time\n",
    "\n",
    "\n",
    "def split_matrix(mat): # divide the matrix into 4 quadrants\n",
    "    h, w = mat.shape\n",
    "    return mat[:h // 2, :w // 2], mat[:h // 2, w // 2:], mat[h // 2:, :w // 2], mat[h // 2:, w // 2:]\n",
    "\n",
    "def concatenate_matrices(m1, m2, m3, m4):\n",
    "    return np.concatenate((np.concatenate((m1, m2), axis=1),\n",
    "                            np.concatenate((m3, m4), axis=1)), axis=0)\n",
    "\n",
    "def imshow(image, width=None):\n",
    "    _, ret = cv2.imencode('.jpg', image)\n",
    "    i = IPython.display.Image(data=ret, width=width)\n",
    "    IPython.display.display(i)\n",
    "\n",
    "def jpg_to_pgm(jpg_path):\n",
    "    image = Image.open(jpg_path)\n",
    "    image_gray = image.convert('L')\n",
    "    width = image_gray.size[0]\n",
    "    if (width>512):\n",
    "        image_gray = image_gray.resize((512, 512))\n",
    "        pixels = list(image_gray.getdata())\n",
    "\n",
    "    else: pixels = list(image_gray.getdata())\n",
    "\n",
    "    return np.array(pixels).reshape((512, 512))\n",
    "\n",
    "def new_p(matrix):\n",
    "    max,min  = np.max(matrix), np.min(matrix)\n",
    "    for i in range(len(matrix)):\n",
    "        for j in range(len(matrix[i])):\n",
    "            matrix[i][j] = ((matrix[i][j]-min)*255.0)/(max-min)\n",
    "    return matrix\n",
    "\n",
    "\n",
    "def function_daubechies_coeffs(image):\n",
    "    rows, cols = image.shape\n",
    "    matrix_coeffs = np.zeros((rows, cols))\n",
    "\n",
    "    for i in range(rows // 2):\n",
    "        if i < rows // 2 - 1: \n",
    "            matrix_coeffs[i, 2 * i:2 * i + 4] = h_coeffs\n",
    "        else:\n",
    "            matrix_coeffs[i, 2 * i:2 * i + 2] = h_coeffs[:2]\n",
    "            matrix_coeffs[i, 0:2] = h_coeffs[2:]\n",
    "\n",
    "    for i in range(rows // 2):\n",
    "        if i < rows // 2 - 1:\n",
    "            matrix_coeffs[i + rows // 2, 2 * i:2 * i + 4] = g_coeffs\n",
    "        else:\n",
    "            matrix_coeffs[i + rows // 2, 2 * i:2 * i + 2] = g_coeffs[:2]\n",
    "            matrix_coeffs[i + rows // 2, 0:2] = g_coeffs[2:]\n",
    "\n",
    "    return (np.round(matrix_coeffs, 4))\n",
    "     \n",
    "     \n",
    "root2, root3 = np.sqrt(2), np.sqrt(3) \n",
    "\n",
    "h_coeffs = np.array([(1 + root3) / (4 * root2),\n",
    "                     (3 + root3) / (4 * root2),\n",
    "                     (3 - root3) / (4 * root2),\n",
    "                     (1 - root3) / (4 * root2)])\n",
    "\n",
    "g_coeffs = np.array([h_coeffs[3], \n",
    "                    -h_coeffs[2],\n",
    "                     h_coeffs[1], \n",
    "                    -h_coeffs[0]])"
   ]
  },
  {
   "cell_type": "code",
   "execution_count": 18,
   "metadata": {},
   "outputs": [],
   "source": [
    "def daubechies4_wavelet_transform_2D(daubechies_coeffs,image,scale,width, details = None):\n",
    "    result_H = []\n",
    "\n",
    "    for row in image: #ESTA PARTE HACE LA HORIZONTAL\n",
    "        result_H.append(np.dot(daubechies_coeffs,row))\n",
    "    result_V = np.dot(daubechies_coeffs,result_H)\n",
    "\n",
    "    if (scale == 1) :\n",
    "        normalized = np.copy(result_V)\n",
    "        aP,cH,cV,cD = split_matrix(normalized)\n",
    "        normalized = concatenate_matrices(new_p(aP),new_p(cH),new_p(cV),new_p(cD))\n",
    "        if details is not None:\n",
    "            for i in range(len(details)//3):\n",
    "                result_V = concatenate_matrices(result_V,details[0+(i*3)],details[1+(i*3)],details[2+(i*3)])\n",
    "                normalized = concatenate_matrices(new_p(normalized),new_p(details[0+(i*3)]),new_p(details[1+(i*3)]),new_p(details[2+(i*3)])) ########\n",
    "  \n",
    "            return result_V, normalized\n",
    "        else:\n",
    "            return result_V, normalized\n",
    "        \n",
    "    elif (np.log2(width//4) >= scale > 1):\n",
    "        aP,cH,cV,cD = split_matrix(result_V)\n",
    "        details = ([cH,cV,cD] + details) if details is not None else [cH,cV,cD]\n",
    "        return daubechies4_wavelet_transform_2D(function_daubechies_coeffs(aP),aP,scale-1,aP.shape[0],details)\n",
    "\n",
    "    else : print(f\"Error. The scale value has to be between 1 - {int(np.log2(width//4))}\"); return np.ones_like(image), np.ones_like(image)"
   ]
  },
  {
   "cell_type": "code",
   "execution_count": 19,
   "metadata": {},
   "outputs": [],
   "source": [
    "def inverse_daubechies4_wavelet_transform_2D(daubechies_coeffs, transform_result,scale,width, details = None):\n",
    "    if (scale == 1) :\n",
    "    \n",
    "        daubechies_coeffs_transpose = np.transpose(daubechies_coeffs)\n",
    "        result_H = np.dot(daubechies_coeffs_transpose, transform_result)\n",
    "\n",
    "        image = []\n",
    "        for row in result_H:\n",
    "            original_row = np.dot(daubechies_coeffs_transpose, row)\n",
    "            image.append(original_row)\n",
    "        \n",
    "        return np.array(image)\n",
    "    \n",
    "    else: \n",
    "        aP,_,_,_ = split_matrix(transform_result)\n",
    "        return inverse_daubechies4_wavelet_transform_2D(function_daubechies_coeffs(aP),aP,scale-1,aP.shape[0])"
   ]
  },
  {
   "attachments": {},
   "cell_type": "markdown",
   "metadata": {},
   "source": [
    "## NUMERICS EXAMPLE"
   ]
  },
  {
   "cell_type": "code",
   "execution_count": 20,
   "metadata": {},
   "outputs": [
    {
     "name": "stdout",
     "output_type": "stream",
     "text": [
      "\n",
      "Coeffs Matrix:\n",
      " [[ 0.483   0.8365  0.2241 -0.1294  0.      0.      0.      0.    ]\n",
      " [ 0.      0.      0.483   0.8365  0.2241 -0.1294  0.      0.    ]\n",
      " [ 0.      0.      0.      0.      0.483   0.8365  0.2241 -0.1294]\n",
      " [ 0.2241 -0.1294  0.      0.      0.      0.      0.483   0.8365]\n",
      " [-0.1294 -0.2241  0.8365 -0.483   0.      0.      0.      0.    ]\n",
      " [ 0.      0.     -0.1294 -0.2241  0.8365 -0.483   0.      0.    ]\n",
      " [ 0.      0.      0.      0.     -0.1294 -0.2241  0.8365 -0.483 ]\n",
      " [ 0.8365 -0.483   0.      0.      0.      0.     -0.1294 -0.2241]]\n",
      "\n",
      "Coeffs Matrix Transposed:\n",
      " [[ 0.483   0.      0.      0.2241 -0.1294  0.      0.      0.8365]\n",
      " [ 0.8365  0.      0.     -0.1294 -0.2241  0.      0.     -0.483 ]\n",
      " [ 0.2241  0.483   0.      0.      0.8365 -0.1294  0.      0.    ]\n",
      " [-0.1294  0.8365  0.      0.     -0.483  -0.2241  0.      0.    ]\n",
      " [ 0.      0.2241  0.483   0.      0.      0.8365 -0.1294  0.    ]\n",
      " [ 0.     -0.1294  0.8365  0.      0.     -0.483  -0.2241  0.    ]\n",
      " [ 0.      0.      0.2241  0.483   0.      0.      0.8365 -0.1294]\n",
      " [ 0.      0.     -0.1294  0.8365  0.      0.     -0.483  -0.2241]]\n"
     ]
    }
   ],
   "source": [
    "example = np.random.randint(0.0, 52.0, (8, 8))\n",
    "example_daubechies_4 = function_daubechies_coeffs(example)\n",
    "example_daubechies_4_transposed = np.transpose(example_daubechies_4)\n",
    "print(f\"\\nCoeffs Matrix:\\n {example_daubechies_4}\")\n",
    "print(f\"\\nCoeffs Matrix Transposed:\\n {example_daubechies_4_transposed}\")"
   ]
  },
  {
   "cell_type": "code",
   "execution_count": 21,
   "metadata": {},
   "outputs": [
    {
     "name": "stdout",
     "output_type": "stream",
     "text": [
      "Original Matrix:\n",
      " [[38  8 17 31 31 33 32 36]\n",
      " [21 13  1 17 36 29 20  0]\n",
      " [ 1 30 28 26 32 42 30 18]\n",
      " [ 1 34 19  4 29  0 34 28]\n",
      " [26 13 50 45  3  3 28 25]\n",
      " [ 7  6  7 26 44 11  2 43]\n",
      " [44 21  8  8 12  9 39 27]\n",
      " [ 8 51 20 48 34 38  6 28]]\n",
      "\n",
      "\n",
      " [[ 30.  40.  70.  37. -14.   7.   3.  13.]\n",
      " [ 47.  43.  40.  46.  11.   9.  17. -30.]\n",
      " [ 23.  54.  23.  58.  -0.  14. -11.   4.]\n",
      " [ 60.  56.  52.  52. -19.  -3. -11. -11.]\n",
      " [  1.  13.  21.  -5.   4. -15.  -4.  -9.]\n",
      " [ 10.  27. -18.   3.  14. -29.  19.  17.]\n",
      " [  6. -31. -13.  17.   3.   0.  29.  26.]\n",
      " [ -4.   8.   3.  27.   5.  -5.  -2.  13.]]\n",
      "\n",
      " [[153. 177. 255. 172.  41.  96.  85. 112.]\n",
      " [195. 187. 178. 194. 106. 101. 119.   2.]\n",
      " [134. 214. 135. 225.  77. 114.  49.  88.]\n",
      " [228. 218. 208. 208.  29.  71.  49.  50.]\n",
      " [ 79. 110. 131.  64.  88.  39.  68.  54.]\n",
      " [103. 145.  33.  84. 113.   4. 125. 121.]\n",
      " [ 93.   0.  44. 120.  85.  79. 150. 143.]\n",
      " [ 69.  99.  85. 146.  91.  66.  73. 109.]]\n"
     ]
    }
   ],
   "source": [
    "print(f\"Original Matrix:\\n {example}\\n\")\n",
    "aP,cH,cV,cD = split_matrix(example)\n",
    "\n",
    "dwt, normal = daubechies4_wavelet_transform_2D(example_daubechies_4,example,1,example.shape[0])\n",
    "# idwt = inverse_daubechies4_wavelet_transform_2D(example_daubechies_4,dwt,2,dwt.shape[0])\n",
    "print(f\"\\n {np.round(dwt,0)}\")\n",
    "print(f\"\\n {np.round(new_p(dwt),0)}\")\n",
    "# print(f\"\\n {np.round(idwt,0)}\")"
   ]
  },
  {
   "cell_type": "code",
   "execution_count": 22,
   "metadata": {},
   "outputs": [
    {
     "data": {
      "image/png": "[encoded data removed]",
      "text/plain": [
       "<Figure size 1000x1000 with 2 Axes>"
      ]
     },
     "metadata": {},
     "output_type": "display_data"
    }
   ],
   "source": [
    "# imshow(np.concatenate((example,idwt), axis = 1))\n",
    "fig, ax = plt.subplots(1, 2, figsize=(10, 10))\n",
    "ax[0].imshow(example, cmap='gray')\n",
    "ax[0].set_title('Original')\n",
    "ax[1].imshow((idwt), cmap='gray')\n",
    "ax[1].set_title('Wavelet Transform')\n",
    "plt.show()"
   ]
  },
  {
   "attachments": {},
   "cell_type": "markdown",
   "metadata": {},
   "source": [
    "## IMAGES EXAMPLES"
   ]
  },
  {
   "cell_type": "code",
   "execution_count": 23,
   "metadata": {},
   "outputs": [],
   "source": [
    "photo = 'imagen.jpg'"
   ]
  },
  {
   "cell_type": "code",
   "execution_count": 24,
   "metadata": {},
   "outputs": [],
   "source": [
    "initial_time = time() \n",
    "array_photo = jpg_to_pgm(photo)\n",
    "daubechies_4 = function_daubechies_coeffs(array_photo)\n",
    "scale, width = 2, array_photo.shape[0]\n",
    "result_img, normalized= daubechies4_wavelet_transform_2D(daubechies_4,array_photo,scale,width)\n",
    "# reconstructed = inverse_daubechies4_wavelet_transform_2D(daubechies_4,result_img,scale,width)\n",
    "\n",
    "# fig, ax = plt.subplots(1, 2, figsize=(10, 10))\n",
    "# ax[0].imshow(array_photo, cmap='gray')\n",
    "# ax[0].set_title('Original')\n",
    "# ax[1].imshow((normalized), cmap='gray')\n",
    "# ax[1].set_title('Wavelet Transform')\n",
    "# plt.show()\n",
    "final_time = time()\n",
    "execution_time = final_time - initial_time\n",
    "print(execution_time)\n",
    "imshow(np.concatenate((result_img,normalized), axis = 1))"
   ]
  }
 ],
 "metadata": {
  "kernelspec": {
   "display_name": "Python 3",
   "language": "python",
   "name": "python3"
  },
  "language_info": {
   "codemirror_mode": {
    "name": "ipython",
    "version": 3
   },
   "file_extension": ".py",
   "mimetype": "text/x-python",
   "name": "python",
   "nbconvert_exporter": "python",
   "pygments_lexer": "ipython3",
   "version": "3.10.11"
  },
  "orig_nbformat": 4
 },
 "nbformat": 4,
 "nbformat_minor": 2
}
