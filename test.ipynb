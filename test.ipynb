{
 "cells": [
  {
   "cell_type": "code",
   "execution_count": 6,
   "metadata": {},
   "outputs": [],
   "source": [
    "import cv2\n",
    "import numpy as np\n",
    "import pywt\n",
    "import matplotlib.pyplot as plt\n",
    "import math"
   ]
  },
  {
   "cell_type": "code",
   "execution_count": 7,
   "metadata": {},
   "outputs": [],
   "source": [
    "image = cv2.imread('/home/juanca632/PersonalProjects/stage/wavelet-transform/image_gray.jpg', cv2.IMREAD_GRAYSCALE)"
   ]
  },
  {
   "cell_type": "code",
   "execution_count": 8,
   "metadata": {},
   "outputs": [
    {
     "name": "stdout",
     "output_type": "stream",
     "text": [
      "[[249 168 131  75  17  13 125 102 231 177]\n",
      " [  6  83  38 163  41 155 124 227 178 147]\n",
      " [249 170  38  12 198  30  29 167  65  16]\n",
      " [151 112  73  25 171 211 174  65  23  62]\n",
      " [ 67 212 126   1 211  75 226 247 132 100]\n",
      " [ 36 190  26 245  12 155  52 182 224  67]\n",
      " [246 202  96 185 148 213  52  12 204 167]\n",
      " [235 244  87  99 234  47 230 210 151 191]\n",
      " [152 215 113 209 242 240  58  18  60 163]\n",
      " [ 80 155 217 133 213  58 220  83 240 231]]\n"
     ]
    },
    {
     "data": {
      "image/png": "[encoded data removed]",
      "text/plain": [
       "<Figure size 640x480 with 1 Axes>"
      ]
     },
     "metadata": {},
     "output_type": "display_data"
    }
   ],
   "source": [
    "# Crear una matriz 10x10 con valores aleatorios enteros entre 0 y 255\n",
    "matrix = np.random.randint(0, 256, size=(10, 10))\n",
    "\n",
    "# Imprimir la matriz\n",
    "print(matrix)\n",
    "plt.imshow(matrix,  cmap=\"gray\")\n",
    "plt.show()"
   ]
  },
  {
   "cell_type": "code",
   "execution_count": 9,
   "metadata": {},
   "outputs": [
    {
     "data": {
      "image/png": "[encoded data removed]",
      "text/plain": [
       "<Figure size 640x480 with 1 Axes>"
      ]
     },
     "metadata": {},
     "output_type": "display_data"
    }
   ],
   "source": [
    "# matrix = cv2.imread(\"/home/juanca632/PersonalProjects/stage/wavelet-transform/descarga.jpg\", cv2.IMREAD_GRAYSCALE)\n",
    "\n",
    "def haar_wavelet_transform(matrix):\n",
    "    n = int(matrix.shape[0])\n",
    "    n_half = int(n /2)\n",
    "    transformed_matrix = np.zeros((n,n))\n",
    "\n",
    "    if(n >= 2):\n",
    "        for i in range(0, n):\n",
    "            aux = 0\n",
    "            aux2 = int(n_half + aux)\n",
    "            for j in range(0, n, 2):\n",
    "\n",
    "                sum = (matrix[i, j] + matrix[i, j+1]) / 2\n",
    "                dif = (matrix[i, j] - matrix[i, j+1]) / 2\n",
    "                transformed_matrix[i,aux] = sum\n",
    "                transformed_matrix[i,aux2] = dif\n",
    "                aux = aux + 1\n",
    "                aux2 = aux2 + 1\n",
    "        transformed_matrix2 = np.copy(transformed_matrix)\n",
    "        for j in range(0, n_half):\n",
    "            aux = 0\n",
    "            aux2 = int(n_half + aux)\n",
    "            for i in range(0, n, 2):\n",
    "\n",
    "                sum = (transformed_matrix[i, j] + transformed_matrix[i+1, j]) / 2\n",
    "                dif = (transformed_matrix[i, j] - transformed_matrix[i+1, j]) / 2\n",
    "\n",
    "                transformed_matrix2[aux,j] = sum\n",
    "                transformed_matrix2[aux2,j] = dif\n",
    "                aux = aux + 1\n",
    "                aux2 = aux2 + 1\n",
    "\n",
    "        transformed_matrix3 = transformed_matrix2[:n_half,:n_half]\n",
    "\n",
    "    return transformed_matrix2, transformed_matrix3\n",
    "\n",
    "image_result, image_aprox = haar_wavelet_transform(matrix)\n",
    "\n",
    "# print(matrix)\n",
    "# print(\"\\n\")\n",
    "# print(image_result)\n",
    "plt.imshow(image_result,  cmap=\"gray\")\n",
    "plt.show()\n",
    "\n"
   ]
  },
  {
   "cell_type": "code",
   "execution_count": 10,
   "metadata": {},
   "outputs": [
    {
     "name": "stdout",
     "output_type": "stream",
     "text": [
      "[[249 168 131  75  17  13 125 102 231 177]\n",
      " [  6  83  38 163  41 155 124 227 178 147]\n",
      " [249 170  38  12 198  30  29 167  65  16]\n",
      " [151 112  73  25 171 211 174  65  23  62]\n",
      " [ 67 212 126   1 211  75 226 247 132 100]\n",
      " [ 36 190  26 245  12 155  52 182 224  67]\n",
      " [246 202  96 185 148 213  52  12 204 167]\n",
      " [235 244  87  99 234  47 230 210 151 191]\n",
      " [152 215 113 209 242 240  58  18  60 163]\n",
      " [ 80 155 217 133 213  58 220  83 240 231]]\n",
      "\n",
      "\n",
      "\n",
      "[[249. 168. 131.  75.  17.  13. 125. 102. 231. 177.]\n",
      " [  6.  83.  38. 163.  41. 155. 124. 227. 178. 147.]\n",
      " [249. 170.  38.  12. 198.  30.  29. 167.  65.  16.]\n",
      " [151. 112.  73.  25. 171. 211. 174.  65.  23.  62.]\n",
      " [ 67. 212. 126.   1. 211.  75. 226. 247. 132. 100.]\n",
      " [ 36. 190.  26. 245.  12. 155.  52. 182. 224.  67.]\n",
      " [246. 202.  96. 185. 148. 213.  52.  12. 204. 167.]\n",
      " [235. 244.  87.  99. 234.  47. 230. 210. 151. 191.]\n",
      " [152. 215. 113. 209. 242. 240.  58.  18.  60. 163.]\n",
      " [ 80. 155. 217. 133. 213.  58. 220.  83. 240. 231.]]\n"
     ]
    },
    {
     "data": {
      "text/plain": [
       "Text(0.5, 1.0, 'Reconstruida')"
      ]
     },
     "execution_count": 10,
     "metadata": {},
     "output_type": "execute_result"
    },
    {
     "data": {
      "image/png": "[encoded data removed]",
      "text/plain": [
       "<Figure size 1000x1000 with 2 Axes>"
      ]
     },
     "metadata": {},
     "output_type": "display_data"
    }
   ],
   "source": [
    "def inverse_haar_wavelet_transform(transformed_matrix):\n",
    "    n = transformed_matrix.shape[0]\n",
    "    n_half = n // 2\n",
    "    reconstructed_matrix = np.copy(transformed_matrix)\n",
    "\n",
    "    if n >= 2:\n",
    "        # # Reconstrucción vertical\n",
    "        for j in range(n_half):\n",
    "            aux = 0\n",
    "            aux2 = n_half + aux\n",
    "            for i in range(0, n, 2):\n",
    "                s = transformed_matrix[aux, j]\n",
    "                d = transformed_matrix[aux2, j]\n",
    "                reconstructed_matrix[i, j] = s + d\n",
    "                reconstructed_matrix[i + 1, j] = s - d\n",
    "                aux += 1\n",
    "                aux2 += 1\n",
    "\n",
    "        # Reconstrucción horizontal\n",
    "        reconstructed_matrix2 = np.zeros_like(reconstructed_matrix)\n",
    "        for i in range(n):\n",
    "            aux = 0\n",
    "            aux2 = n_half + aux\n",
    "            for j in range(0, n, 2):\n",
    "                s = reconstructed_matrix[i, aux]\n",
    "                d = reconstructed_matrix[i, aux2]\n",
    "                reconstructed_matrix2[i, j] = s + d\n",
    "                reconstructed_matrix2[i, j + 1] = s - d\n",
    "                aux += 1\n",
    "                aux2 += 1\n",
    "        return reconstructed_matrix2\n",
    "\n",
    "    return transformed_matrix\n",
    "\n",
    "# Ejemplo de matriz transformada\n",
    "transformed_matrix = np.array([[6, -2, 0, 0],\n",
    "                               [5, -1, 1, 0],\n",
    "                               [2, 0, -2, 0],\n",
    "                               [1, 1, 1, -3]])\n",
    "\n",
    "image_original = inverse_haar_wavelet_transform(image_result)\n",
    "\n",
    "print(matrix)\n",
    "print(\"\\n\\n\")\n",
    "print(image_original)\n",
    "fig, axes = plt.subplots(1, 2, figsize=(10, 10))\n",
    "axes[0].imshow(matrix, cmap='gray')\n",
    "axes[0].set_title('Original')\n",
    "axes[1].imshow(image_original, cmap='gray')\n",
    "axes[1].set_title('Reconstruida')\n"
   ]
  }
 ],
 "metadata": {
  "kernelspec": {
   "display_name": "Python 3",
   "language": "python",
   "name": "python3"
  },
  "language_info": {
   "codemirror_mode": {
    "name": "ipython",
    "version": 3
   },
   "file_extension": ".py",
   "mimetype": "text/x-python",
   "name": "python",
   "nbconvert_exporter": "python",
   "pygments_lexer": "ipython3",
   "version": "3.8.10"
  },
  "orig_nbformat": 4
 },
 "nbformat": 4,
 "nbformat_minor": 2
}
