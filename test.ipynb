{
 "cells": [
  {
   "cell_type": "code",
   "execution_count": 1,
   "metadata": {},
   "outputs": [],
   "source": [
    "import cv2\n",
    "import numpy as np\n",
    "import pywt\n",
    "import matplotlib.pyplot as plt\n",
    "import math"
   ]
  },
  {
   "cell_type": "code",
   "execution_count": 2,
   "metadata": {},
   "outputs": [],
   "source": [
    "image = cv2.imread('/home/juanca632/PersonalProjects/stage/wavelet-transform/image_gray.jpg', cv2.IMREAD_GRAYSCALE)"
   ]
  },
  {
   "cell_type": "code",
   "execution_count": 3,
   "metadata": {},
   "outputs": [
    {
     "name": "stdout",
     "output_type": "stream",
     "text": [
      "[[234  86 105 126 129 137   6 229 110 121]\n",
      " [251 118  54 211 224 244 171  35 219  17]\n",
      " [102 157  85  38 238  45 221 238 120 168]\n",
      " [161  79 160  18 104  55 181 163 123 255]\n",
      " [ 72  80 124  18  10 134  60 212 165   5]\n",
      " [167 194  60 124 175 226 145 191 180  47]\n",
      " [255  27  77  70  89  80  36  79  58 144]\n",
      " [237 211  38 137  69  31  94  31 254 116]\n",
      " [176 116  27 198  78  42  46 137 254 240]\n",
      " [144 199 117 120 236 211  15 118  12  64]]\n"
     ]
    }
   ],
   "source": [
    "# Crear una matriz 10x10 con valores aleatorios enteros entre 0 y 255\n",
    "matrix = np.random.randint(0, 256, size=(10, 10))\n",
    "\n",
    "# Imprimir la matriz\n",
    "print(matrix)"
   ]
  },
  {
   "cell_type": "code",
   "execution_count": null,
   "metadata": {},
   "outputs": [],
   "source": [
    "def haar_wavelet_transform(matrix):\n",
    "    n = int(matrix.shape[0])\n",
    "    n_half = int(n /2)\n",
    "    transformed_matrix = np.zeros((n,n))\n",
    "\n",
    "    if(n >= 2):\n",
    "        for i in range(0, n):\n",
    "            aux = 0\n",
    "            aux2 = int(n_half + aux)\n",
    "            for j in range(0, n, 2):\n",
    "\n",
    "                sum = (matrix[i, j] + matrix[i, j+1]) / 2\n",
    "                dif = (matrix[i, j] - matrix[i, j+1]) / 2\n",
    "                transformed_matrix[i,aux] = sum\n",
    "                transformed_matrix[i,aux2] = dif\n",
    "                aux = aux + 1\n",
    "                aux2 = aux2 + 1\n",
    "        transformed_matrix2 = np.copy(transformed_matrix)\n",
    "        for j in range(0, n_half):\n",
    "            aux = 0\n",
    "            aux2 = int(n_half + aux)\n",
    "            for i in range(0, n, 2):\n",
    "\n",
    "                sum = (transformed_matrix[i, j] + transformed_matrix[i+1, j]) / 2\n",
    "                dif = (transformed_matrix[i, j] - transformed_matrix[i+1, j]) / 2\n",
    "\n",
    "                transformed_matrix2[aux,j] = sum\n",
    "                transformed_matrix2[aux2,j] = dif\n",
    "                aux = aux + 1\n",
    "                aux2 = aux2 + 1\n",
    "\n",
    "        transformed_matrix3 = transformed_matrix2[:n_half,:n_half]\n",
    "\n",
    "    return transformed_matrix2, transformed_matrix3\n",
    "\n",
    "image_result, image_aprox = haar_wavelet_transform(matrix)\n",
    "    \n",
    "print(\"\\n\")\n",
    "# print(image_result)\n",
    "plt.imshow(image_aprox,  cmap=\"gray\")\n",
    "plt.show()\n",
    "\n"
   ]
  }
 ],
 "metadata": {
  "kernelspec": {
   "display_name": "Python 3",
   "language": "python",
   "name": "python3"
  },
  "language_info": {
   "codemirror_mode": {
    "name": "ipython",
    "version": 3
   },
   "file_extension": ".py",
   "mimetype": "text/x-python",
   "name": "python",
   "nbconvert_exporter": "python",
   "pygments_lexer": "ipython3",
   "version": "3.8.10"
  },
  "orig_nbformat": 4
 },
 "nbformat": 4,
 "nbformat_minor": 2
}
