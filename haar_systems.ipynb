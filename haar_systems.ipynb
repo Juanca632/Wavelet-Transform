{
 "cells": [
  {
   "attachments": {},
   "cell_type": "markdown",
   "metadata": {},
   "source": [
    "# Comparison of different methods"
   ]
  },
  {
   "cell_type": "code",
   "execution_count": 36,
   "metadata": {},
   "outputs": [],
   "source": [
    "import numpy as np\n",
    "\n",
    "root2 = np.sqrt(2)\n",
    "\n",
    "def approximation(array):\n",
    "    return array[:int(len(array)/2)]\n",
    "\n",
    "def details(array):\n",
    "    return array[int(len(array)/2):]"
   ]
  },
  {
   "attachments": {},
   "cell_type": "markdown",
   "metadata": {},
   "source": [
    "### For METHOD\n"
   ]
  },
  {
   "cell_type": "code",
   "execution_count": 39,
   "metadata": {},
   "outputs": [
    {
     "name": "stdout",
     "output_type": "stream",
     "text": [
      "Approximation coefficients (A1): [45.254834   16.97056275 28.28427125 67.88225099]\n",
      "Detail coefficients (D1): [ 0.          5.65685425  5.65685425 22.627417  ]\n",
      "Approximation coefficients (A2): [ 44.  68.  20. -28.]\n",
      "\n",
      "Reconstructed Signal [ 44.  68.   4.  20.  20. -28.  -4. -12.]\n"
     ]
    }
   ],
   "source": [
    "def direct_wavelet(array,output):\n",
    "    N, N2, = len(array), len(array)/2\n",
    "    for i in range(0,N,2):\n",
    "        output[int(i/2)] = (array[i] + array[i+1])/root2\n",
    "        output[int(i/2 + N2)] = (array[i] - array[i+1])/root2\n",
    "    return output\n",
    "\n",
    "def inverse_wavelet(output,signal):\n",
    "    N, N2,  = len(output), len(output)/2\n",
    "    for i in range(0,len,2):\n",
    "        signal[i] = (output[i] + output[i+N2])/root2\n",
    "        signal[i+1] = (output[i] - output[i+N2])/root2\n",
    "    return signal\n",
    "\n",
    "s = np.array([32, 32, 16, 8, 24, 16, 64, 32])\n",
    "\n",
    "# DIRECT WEVELET TRANSFORM --> dwt\n",
    "dwt = np.empty(len(s))\n",
    "dwt = direct_wavelet(s,dwt)\n",
    "print(\"Approximation coefficients (A1):\", approximation(dwt))\n",
    "print(\"Detail coefficients (D1):\", details(dwt))\n",
    "\n",
    "A2 = np.empty(len(dwt))\n",
    "A2 = direct_wavelet(dwt[:4],A2)\n",
    "print(\"Approximation coefficients (A2):\", approximation(A2))\n",
    "\n",
    "\n",
    "\n",
    "# INVERSE WEVELET TRANSFORM\n",
    "iwt = np.empty(len(s))\n",
    "iwt = direct_wavelet(dwt,iwt)\n",
    "print(f\"\\nReconstructed Signal {iwt}\")"
   ]
  },
  {
   "attachments": {},
   "cell_type": "markdown",
   "metadata": {},
   "source": [
    "### Numpy METHOD"
   ]
  },
  {
   "cell_type": "code",
   "execution_count": null,
   "metadata": {},
   "outputs": [],
   "source": [
    "import numpy as np\n",
    "\n",
    "def check_orthonormality(a,b):\n",
    "    dot_product = np.dot(a, b)\n",
    "    orthogonal = np.isclose(dot_product, 0)\n",
    "\n",
    "    na = np.linalg.norm(a)\n",
    "    nb = np.linalg.norm(b)\n",
    "    normalized = np.isclose(na, 1) and np.isclose(nb, 1)\n",
    "\n",
    "    if orthogonal and normalized:\n",
    "        print(\"The vectors are orthonormal.\")\n",
    "    else:\n",
    "        print(\"The vectors are not orthonormal.\")\n",
    "\n",
    "# Signal\n",
    "s = np.array([32, 32, 16, 8, 24, 16, 64, 32])\n",
    "\n",
    "# Filters\n",
    "h = np.array([1/np.sqrt(2), 1/np.sqrt(2)])  # LOW PASS\n",
    "g = np.array([1/np.sqrt(2), -1/np.sqrt(2)]) # HIGH PASS\n",
    "\n",
    "# check_orthonormality(h, g)\n",
    "\n",
    "########################################################\n",
    "# Realizar la transformada wavelet de Haar utilizando los filtros personalizados\n",
    "A1 = np.convolve(s, h, mode='valid')\n",
    "D1 = np.convolve(s, g, mode='valid')\n",
    "\n",
    "# Imprimir los resultados\n",
    "print(\"Approximation coefficients (A1):\", A1)\n",
    "print(\"Detail coefficients (D1):\", D1)\n",
    "\n",
    "# # Definir los coeficientes de aproximación y detalle\n",
    "# cA = np.array([28.28427125, 20.50609665, 48.89026304, 45.254834])\n",
    "# cD = np.array([3.53553391, -3.53553391, -8.48528137, -3.53553391])\n",
    "\n",
    "# # Definir los filtros inversos\n",
    "# h_inv = np.array([1/np.sqrt(2), 1/np.sqrt(2)])  # LOW PASS inverse\n",
    "# g_inv = np.array([-1/np.sqrt(2), 1/np.sqrt(2)])  # HIGH PASS inverse\n",
    "\n",
    "# # Realizar la reconstrucción de la señal\n",
    "# reconstructed_signal = np.convolve(A1, h_inv, mode='full') + np.convolve(cD, g_inv, mode='full')\n",
    "\n",
    "\n",
    "\n",
    "# # Imprimir la señal reconstruida\n",
    "# print(\"Señal reconstruida:\", reconstructed_signal)"
   ]
  }
 ],
 "metadata": {
  "kernelspec": {
   "display_name": "Python 3",
   "language": "python",
   "name": "python3"
  },
  "language_info": {
   "codemirror_mode": {
    "name": "ipython",
    "version": 3
   },
   "file_extension": ".py",
   "mimetype": "text/x-python",
   "name": "python",
   "nbconvert_exporter": "python",
   "pygments_lexer": "ipython3",
   "version": "3.10.11"
  },
  "orig_nbformat": 4
 },
 "nbformat": 4,
 "nbformat_minor": 2
}
