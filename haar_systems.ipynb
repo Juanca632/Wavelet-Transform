{
 "cells": [
  {
   "attachments": {},
   "cell_type": "markdown",
   "metadata": {},
   "source": [
    "# Comparison of different methods"
   ]
  },
  {
   "cell_type": "code",
   "execution_count": 55,
   "metadata": {},
   "outputs": [],
   "source": [
    "import numpy as np\n",
    "\n",
    "def approximation(array):\n",
    "    return array[:int(len(array)/2)]\n",
    "\n",
    "def details(array):\n",
    "    return array[int(len(array)/2):]\n",
    "\n",
    "root2 = np.sqrt(2)\n",
    "s = np.array([32, 32, 16, 8, 24, 16, 64, 32])"
   ]
  },
  {
   "attachments": {},
   "cell_type": "markdown",
   "metadata": {},
   "source": [
    "### For METHOD\n"
   ]
  },
  {
   "cell_type": "code",
   "execution_count": 66,
   "metadata": {},
   "outputs": [
    {
     "name": "stdout",
     "output_type": "stream",
     "text": [
      "\n",
      "Approximation coefficients (A1): [45.254834   16.97056275 28.28427125 67.88225099]\n",
      "Detail coefficients (D1): [ 0.          5.65685425  5.65685425 22.627417  ]\n",
      "\n",
      "Reconstructed Signal: [32. 32. 16.  8. 24. 16. 64. 32.]\n",
      "Original Signal: [32 32 16  8 24 16 64 32]\n"
     ]
    }
   ],
   "source": [
    "def direct_wavelet(array,output):\n",
    "    N, N2, = len(array), int(len(array)/2)\n",
    "    for i in range(0,N,2):\n",
    "        output[int(i/2)] = (array[i] + array[i+1])/root2\n",
    "        output[int(i/2 + N2)] = (array[i] - array[i+1])/root2\n",
    "    return output\n",
    "\n",
    "def inverse_wavelet(output,signal):\n",
    "    N, N2,  = len(output), int(len(output)/2)\n",
    "    for i in range(0,N,2):\n",
    "        signal[i] = (output[int(i/2)] + output[int(i/2 + N2)])/root2\n",
    "        signal[i+1] = (output[int(i/2)] - output[int(i/2 + N2)])/root2\n",
    "    return signal\n",
    "\n",
    "# DIRECT WEVELET TRANSFORM --> dwt\n",
    "dwt = np.empty(len(s))\n",
    "dwt = direct_wavelet(s,dwt)\n",
    "print(\"\\nApproximation coefficients (A1):\", approximation(dwt))\n",
    "print(\"Detail coefficients (D1):\", details(dwt))\n",
    "\n",
    "# INVERSE WEVELET TRANSFORM \n",
    "rest_s = np.empty(len(s))\n",
    "rest_s = inverse_wavelet(dwt,rest_s)\n",
    "print(\"\\nReconstructed Signal:\", rest_s)\n",
    "print(\"Original Signal:\", s)"
   ]
  },
  {
   "cell_type": "code",
   "execution_count": 69,
   "metadata": {},
   "outputs": [
    {
     "name": "stdout",
     "output_type": "stream",
     "text": [
      "\n",
      "Approximation coefficients (A2): [ 44.  68.  20. -28.]\n",
      "Detail coefficients (D2): [ 0.          5.65685425  5.65685425 22.627417  ]\n",
      "\n",
      "Approximation coefficients (A3): [ 79.19595949  -5.65685425 -16.97056275  33.9411255 ]\n",
      "Detail coefficients (D3): [1.42413555e-306 1.78019082e-306 1.37959740e-306 2.29178686e-312]\n"
     ]
    }
   ],
   "source": [
    "dwt2 = np.empty(len(dwt))\n",
    "dwt2 = direct_wavelet(approximation(dwt),dwt2)\n",
    "print(\"\\nApproximation coefficients (A2):\", approximation(dwt2))\n",
    "print(\"Detail coefficients (D2):\", details(dwt))\n",
    "\n",
    "\n",
    "dwt3 = np.empty(len(dwt2))\n",
    "dwt3 = direct_wavelet(approximation(dwt2),dwt3)\n",
    "print(\"\\nApproximation coefficients (A3):\", approximation(dwt3))\n",
    "print(\"Detail coefficients (D3):\", details(dwt3))\n",
    "\n"
   ]
  },
  {
   "attachments": {},
   "cell_type": "markdown",
   "metadata": {},
   "source": [
    "### Numpy METHOD"
   ]
  },
  {
   "cell_type": "code",
   "execution_count": null,
   "metadata": {},
   "outputs": [],
   "source": [
    "import numpy as np\n",
    "\n",
    "def check_orthonormality(a,b):\n",
    "    dot_product = np.dot(a, b)\n",
    "    orthogonal = np.isclose(dot_product, 0)\n",
    "\n",
    "    na = np.linalg.norm(a)\n",
    "    nb = np.linalg.norm(b)\n",
    "    normalized = np.isclose(na, 1) and np.isclose(nb, 1)\n",
    "\n",
    "    if orthogonal and normalized:\n",
    "        print(\"The vectors are orthonormal.\")\n",
    "    else:\n",
    "        print(\"The vectors are not orthonormal.\")\n",
    "\n",
    "# Signal\n",
    "s = np.array([32, 32, 16, 8, 24, 16, 64, 32])\n",
    "\n",
    "# Filters\n",
    "h = np.array([1/np.sqrt(2), 1/np.sqrt(2)])  # LOW PASS\n",
    "g = np.array([1/np.sqrt(2), -1/np.sqrt(2)]) # HIGH PASS\n",
    "\n",
    "# check_orthonormality(h, g)\n",
    "\n",
    "########################################################\n",
    "# Realizar la transformada wavelet de Haar utilizando los filtros personalizados\n",
    "A1 = np.convolve(s, h, mode='valid')\n",
    "D1 = np.convolve(s, g, mode='valid')\n",
    "\n",
    "# Imprimir los resultados\n",
    "print(\"Approximation coefficients (A1):\", A1)\n",
    "print(\"Detail coefficients (D1):\", D1)\n",
    "\n",
    "# # Definir los coeficientes de aproximación y detalle\n",
    "# cA = np.array([28.28427125, 20.50609665, 48.89026304, 45.254834])\n",
    "# cD = np.array([3.53553391, -3.53553391, -8.48528137, -3.53553391])\n",
    "\n",
    "# # Definir los filtros inversos\n",
    "# h_inv = np.array([1/np.sqrt(2), 1/np.sqrt(2)])  # LOW PASS inverse\n",
    "# g_inv = np.array([-1/np.sqrt(2), 1/np.sqrt(2)])  # HIGH PASS inverse\n",
    "\n",
    "# # Realizar la reconstrucción de la señal\n",
    "# reconstructed_signal = np.convolve(A1, h_inv, mode='full') + np.convolve(cD, g_inv, mode='full')\n",
    "\n",
    "\n",
    "\n",
    "# # Imprimir la señal reconstruida\n",
    "# print(\"Señal reconstruida:\", reconstructed_signal)"
   ]
  }
 ],
 "metadata": {
  "kernelspec": {
   "display_name": "Python 3",
   "language": "python",
   "name": "python3"
  },
  "language_info": {
   "codemirror_mode": {
    "name": "ipython",
    "version": 3
   },
   "file_extension": ".py",
   "mimetype": "text/x-python",
   "name": "python",
   "nbconvert_exporter": "python",
   "pygments_lexer": "ipython3",
   "version": "3.10.11"
  },
  "orig_nbformat": 4
 },
 "nbformat": 4,
 "nbformat_minor": 2
}
