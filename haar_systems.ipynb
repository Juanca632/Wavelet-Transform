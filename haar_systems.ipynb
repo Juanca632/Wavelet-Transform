{
 "cells": [
  {
   "attachments": {},
   "cell_type": "markdown",
   "metadata": {},
   "source": [
    "# Haar System"
   ]
  },
  {
   "cell_type": "code",
   "execution_count": 80,
   "metadata": {},
   "outputs": [],
   "source": [
    "import numpy as np\n",
    "\n",
    "def approximation(array):\n",
    "    return array[:int(len(array)/2)]\n",
    "\n",
    "def details(array):\n",
    "    return array[int(len(array)/2):]\n",
    "\n",
    "def i_num(array):\n",
    "    return int(np.ceil(np.log2(len(array))))\n",
    "\n",
    "root2 = np.sqrt(2)\n",
    "s = np.array([32, 32, 16, 8, 24, 16, 64, 32])"
   ]
  },
  {
   "attachments": {},
   "cell_type": "markdown",
   "metadata": {},
   "source": [
    "### For METHOD\n"
   ]
  },
  {
   "cell_type": "code",
   "execution_count": 66,
   "metadata": {},
   "outputs": [
    {
     "name": "stdout",
     "output_type": "stream",
     "text": [
      "\n",
      "Approximation coefficients (A1): [45.254834   16.97056275 28.28427125 67.88225099]\n",
      "Detail coefficients (D1): [ 0.          5.65685425  5.65685425 22.627417  ]\n",
      "\n",
      "Reconstructed Signal: [32. 32. 16.  8. 24. 16. 64. 32.]\n",
      "Original Signal: [32 32 16  8 24 16 64 32]\n"
     ]
    }
   ],
   "source": [
    "def direct_wavelet(array,output):\n",
    "    N, N2, = len(array), int(len(array)/2)\n",
    "    for i in range(0,N,2):\n",
    "        output[int(i/2)] = (array[i] + array[i+1])/root2\n",
    "        output[int(i/2 + N2)] = (array[i] - array[i+1])/root2\n",
    "    return output\n",
    "\n",
    "def inverse_wavelet(output,signal):\n",
    "    N, N2,  = len(output), int(len(output)/2)\n",
    "    for i in range(0,N,2):\n",
    "        signal[i] = (output[int(i/2)] + output[int(i/2 + N2)])/root2\n",
    "        signal[i+1] = (output[int(i/2)] - output[int(i/2 + N2)])/root2\n",
    "    return signal\n",
    "\n",
    "# DIRECT WEVELET TRANSFORM --> dwt\n",
    "dwt = np.empty(len(s))\n",
    "dwt = direct_wavelet(s,dwt)\n",
    "print(\"\\nApproximation coefficients (A1):\", approximation(dwt))\n",
    "print(\"Detail coefficients (D1):\", details(dwt))\n",
    "\n",
    "# INVERSE WEVELET TRANSFORM \n",
    "rest_s = np.empty(len(s))\n",
    "rest_s = inverse_wavelet(dwt,rest_s)\n",
    "print(\"\\nReconstructed Signal:\", rest_s)\n",
    "print(\"Original Signal:\", s)"
   ]
  },
  {
   "cell_type": "code",
   "execution_count": 82,
   "metadata": {},
   "outputs": [
    {
     "name": "stdout",
     "output_type": "stream",
     "text": [
      "\n",
      "Approximation coefficients (A1): [45.254834   16.97056275 28.28427125 67.88225099]\n",
      "Detail coefficients (D1): [ 0.          5.65685425  5.65685425 22.627417  ]\n",
      "\n",
      "Approximation coefficients (A2): [45.254834   16.97056275 28.28427125 67.88225099]\n",
      "Detail coefficients (D2): [ 0.          5.65685425  5.65685425 22.627417  ]\n",
      "\n",
      "Approximation coefficients (A3): [44. 68.]\n",
      "Detail coefficients (D3): [ 20. -28.]\n"
     ]
    }
   ],
   "source": [
    "dwt = np.empty(len(s))\n",
    "dwt = direct_wavelet(s, dwt)\n",
    "\n",
    "for i in range(1, i_num(s)+1):\n",
    "    print(f\"\\nApproximation coefficients (A{i}):\", approximation(dwt))\n",
    "    print(f\"Detail coefficients (D{i}):\", details(dwt))\n",
    "    if i>1:\n",
    "        dwt_temp = np.empty(len(approximation(dwt)))\n",
    "        dwt_temp = direct_wavelet(approximation(dwt), dwt_temp)\n",
    "        dwt = dwt_temp"
   ]
  }
 ],
 "metadata": {
  "kernelspec": {
   "display_name": "Python 3",
   "language": "python",
   "name": "python3"
  },
  "language_info": {
   "codemirror_mode": {
    "name": "ipython",
    "version": 3
   },
   "file_extension": ".py",
   "mimetype": "text/x-python",
   "name": "python",
   "nbconvert_exporter": "python",
   "pygments_lexer": "ipython3",
   "version": "3.10.11"
  },
  "orig_nbformat": 4
 },
 "nbformat": 4,
 "nbformat_minor": 2
}
