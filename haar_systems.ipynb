{
 "cells": [
  {
   "attachments": {},
   "cell_type": "markdown",
   "metadata": {},
   "source": [
    "# Haar System"
   ]
  },
  {
   "cell_type": "code",
   "execution_count": 7,
   "metadata": {},
   "outputs": [],
   "source": [
    "import numpy as np\n",
    "\n",
    "def approximation(array):\n",
    "    return array[:array.shape[0]//2]\n",
    "\n",
    "def details(array):\n",
    "    return array[array.shape[0]//2:]\n",
    "\n",
    "root2 = np.sqrt(2)\n",
    "s = np.array([32, 32, 16, 8, 24, 16, 64, 32])"
   ]
  },
  {
   "attachments": {},
   "cell_type": "markdown",
   "metadata": {},
   "source": [
    "# 1 dimension"
   ]
  },
  {
   "attachments": {},
   "cell_type": "markdown",
   "metadata": {},
   "source": [
    "## Decomposition "
   ]
  },
  {
   "cell_type": "code",
   "execution_count": 8,
   "metadata": {},
   "outputs": [],
   "source": [
    "def direct_wavelet(array,output):\n",
    "    N, N2, = array.shape[0], array.shape[0] // 2\n",
    "    for i in range(0,N,2):\n",
    "        output[int(i/2)] = (array[i] + array[i+1])/root2\n",
    "        output[int(i/2 + N2)] = (array[i] - array[i+1])/root2\n",
    "    return output\n",
    "\n",
    "def inverse_wavelet(output,signal):\n",
    "    N, N2,  = output.shape[0], output.shape[0] // 2\n",
    "    for i in range(0,N,2):\n",
    "        signal[i] = (output[int(i/2)] + output[int(i/2 + N2)])/root2\n",
    "        signal[i+1] = (output[int(i/2)] - output[int(i/2 + N2)])/root2\n",
    "    return signal\n"
   ]
  },
  {
   "cell_type": "code",
   "execution_count": 9,
   "metadata": {},
   "outputs": [
    {
     "name": "stdout",
     "output_type": "stream",
     "text": [
      "\n",
      "Approximation coefficients (A1): [45.254834   16.97056275 28.28427125 67.88225099]\n",
      "Detail coefficients (D1): [ 0.          5.65685425  5.65685425 22.627417  ]\n",
      "\n",
      "Approximation coefficients (A2): [44. 68.]\n",
      "Detail coefficients (D2): [ 20. -28.]\n",
      "\n",
      "Approximation coefficients (A3): [79.19595949]\n",
      "Detail coefficients (D3): [-16.97056275]\n"
     ]
    }
   ],
   "source": [
    "# DIRECT WAVELET TRANSFORM --> dwt\n",
    "dwt = np.empty(len(s))\n",
    "dwt = direct_wavelet(s,dwt)\n",
    "print(\"\\nApproximation coefficients (A1):\", approximation(dwt))\n",
    "print(\"Detail coefficients (D1):\", details(dwt))\n",
    "\n",
    "dwt2 = np.empty(len(approximation(dwt)))\n",
    "dwt2 = direct_wavelet(approximation(dwt),dwt2)\n",
    "print(\"\\nApproximation coefficients (A2):\", approximation(dwt2))\n",
    "print(\"Detail coefficients (D2):\", details(dwt2))\n",
    "\n",
    "\n",
    "dwt3 = np.empty(len(approximation(dwt2)))\n",
    "dwt3 = direct_wavelet(approximation(dwt2),dwt3)\n",
    "print(\"\\nApproximation coefficients (A3):\", approximation(dwt3))\n",
    "print(\"Detail coefficients (D3):\", details(dwt3))"
   ]
  },
  {
   "attachments": {},
   "cell_type": "markdown",
   "metadata": {},
   "source": [
    "## Reconstruction"
   ]
  },
  {
   "cell_type": "code",
   "execution_count": 10,
   "metadata": {},
   "outputs": [
    {
     "name": "stdout",
     "output_type": "stream",
     "text": [
      "\n",
      "Approximation coefficients (A3): [79.19595949]\n",
      "\n",
      "Reconstructed Signal A2: [44. 68.]\n",
      "\n",
      "Reconstructed Signal A1: [45.254834   16.97056275 28.28427125 67.88225099]\n",
      "\n",
      "Reconstructed Signal: [32. 32. 16.  8. 24. 16. 64. 32.]\n",
      "Original Signal: [32 32 16  8 24 16 64 32]\n"
     ]
    }
   ],
   "source": [
    "# INVERSE WAVELET TRANSFORM\n",
    "print(\"\\nApproximation coefficients (A3):\", approximation(dwt3))\n",
    "\n",
    "rest_s2 = np.empty(2*len(approximation(dwt3)))\n",
    "rest_s2 = inverse_wavelet(dwt3,rest_s2)\n",
    "print(\"\\nReconstructed Signal A2:\", rest_s2)\n",
    "\n",
    "rest_s1 = np.empty(2*len(approximation(dwt2)))\n",
    "rest_s1 = inverse_wavelet(dwt2,rest_s1)\n",
    "print(\"\\nReconstructed Signal A1:\", rest_s1)\n",
    "\n",
    "rest_s = np.empty(2*len(approximation(dwt)))\n",
    "rest_s = inverse_wavelet(dwt,rest_s)\n",
    "print(\"\\nReconstructed Signal:\", rest_s)\n",
    "print(\"Original Signal:\", s)"
   ]
  },
  {
   "attachments": {},
   "cell_type": "markdown",
   "metadata": {},
   "source": [
    "# 2 dimensions"
   ]
  },
  {
   "attachments": {},
   "cell_type": "markdown",
   "metadata": {},
   "source": [
    "## Decomposition"
   ]
  },
  {
   "cell_type": "code",
   "execution_count": 11,
   "metadata": {},
   "outputs": [],
   "source": [
    "def dividir_matriz(matriz): # divide the matrix into 4 quadrants\n",
    "    filas, columnas = matriz.shape\n",
    "    mitad_filas = filas // 2\n",
    "    mitad_columnas = columnas // 2\n",
    "    submatrices = [matriz[i:i+mitad_filas, j:j+mitad_columnas] for i in range(0, filas, mitad_filas) \n",
    "                   for j in range(0, columnas, mitad_columnas)]\n",
    "    return submatrices\n",
    "\n",
    "def direct_wavelet2D_H(matrix): # does the direct wavelet transform horizontally\n",
    "    Nf,output = matrix.shape[0], np.zeros_like(matrix,dtype=float)\n",
    "    for c in range(0, Nf, 2):\n",
    "        output[:, c//2] = (matrix[:, c] + matrix[:, c+1]) / root2 \n",
    "        output[:, 2 if c == 0 else 3 if c == 2 else c] = (matrix[:, c] - matrix[:, c+1]) / root2\n",
    "    return output\n",
    "\n",
    "def direct_wavelet2D_V(matrix): # does the direct wavelet transform vertically\n",
    "    Nf,Nc,output = matrix.shape[0], matrix.shape[0]//2, np.copy(matrix)\n",
    "    for f in range(0, Nf, 2):\n",
    "        output[f // 2, :Nc] = (matrix[f, :Nc] + matrix[f + 1, :Nc]) / root2\n",
    "        output[2 if f == 0 else 3 if f == 2 else f, :Nc] = (matrix[f, :Nc] - matrix[f + 1, :Nc]) / root2\n",
    "    return output\n",
    "\n",
    "## 0 2"
   ]
  },
  {
   "cell_type": "code",
   "execution_count": 17,
   "metadata": {},
   "outputs": [
    {
     "name": "stdout",
     "output_type": "stream",
     "text": [
      "\n",
      "Original Signal:\n",
      " [[32  8  4  2]\n",
      " [16  0  2  4]\n",
      " [ 8  4  8  0]\n",
      " [64  2  8 16]]\n",
      "\n",
      "Direct wevelet Matrix\n",
      " [[ 28.           6.          16.97056275   1.41421356]\n",
      " [ 39.          16.          11.3137085   -1.41421356]\n",
      " [ 12.           0.           2.82842712   5.65685425]\n",
      " [-27.          -8.          43.84062043  -5.65685425]]\n"
     ]
    }
   ],
   "source": [
    "matriz = np.array([[32, 8, 4, 2],\n",
    "                   [16, 0, 2, 4],\n",
    "                   [8, 4, 8, 0],\n",
    "                   [64, 2, 8, 16]])\n",
    "\n",
    "# matriz = np.random.randint(low=1, high=101, size=(6, 6)) * 2\n",
    "\n",
    "\n",
    "# DIRECT WAVELET TRANSFORM\n",
    "result = direct_wavelet2D_V(direct_wavelet2D_H(matriz))\n",
    "# result = direct_wavelet2D_V(matriz)\n",
    "\n",
    "print(\"\\nOriginal Signal:\\n\", matriz)\n",
    "print(\"\\nDirect wevelet Matrix\\n\",result)\n",
    "\n",
    "cA, cV, cH, cD = dividir_matriz(result)\n",
    "\n",
    "# print(\"\\nApproximation coefficients (A1):\\n\", cA)\n",
    "# print(\"\\nDetail coefficients (D1)\")\n",
    "# print(f\"Horizontal Details (cH):\\n{cH}\\n\")\n",
    "# print(f\"Vertical Details (cV):\\n{cV}\\n\")\n",
    "# print(f\"Diagonal Details (cD):\\n{cD}\\n\")"
   ]
  },
  {
   "attachments": {},
   "cell_type": "markdown",
   "metadata": {},
   "source": [
    "## Reconstriction"
   ]
  },
  {
   "cell_type": "code",
   "execution_count": null,
   "metadata": {},
   "outputs": [],
   "source": [
    "# INVERSE WAVELET TRANSFORM\n",
    "# reconstructed_matriz = np.zeros_like(result, dtype=float)\n",
    "# reconstructed_matriz = inverse_wavelet2D_H(inverse_wavelet2D_V(result))\n",
    "# reconstructed_matriz = (inverse_wavelet2D_V(result))\n",
    "# print(\"\\nReconstructed Signal:\\n\", reconstructed_matriz)"
   ]
  },
  {
   "cell_type": "code",
   "execution_count": 13,
   "metadata": {},
   "outputs": [
    {
     "name": "stdout",
     "output_type": "stream",
     "text": [
      "[[179.         137.         211.          11.3137085  108.8944443\n",
      "   -7.07106781]\n",
      " [331.         209.         205.          66.46803743   8.48528137\n",
      "  -39.59797975]\n",
      " [160.         173.         272.         -16.97056275   0.\n",
      "  104.65180362]\n",
      " [ 41.          25.           7.          21.21320344 -52.32590181\n",
      "   24.04163056]\n",
      " [-19.         -69.         -33.         -96.16652224 -59.39696962\n",
      "  -18.38477631]\n",
      " [-20.          31.          -2.          39.59797975  60.81118318\n",
      "  -21.21320344]]\n"
     ]
    }
   ],
   "source": [
    "def haar_wavelet_transform(matrix):\n",
    "    n = int(matrix.shape[0])\n",
    "    n_half = int(n /2)\n",
    "    transformed_matrix = np.zeros((n,n))\n",
    "\n",
    "    if(n >= 2):\n",
    "        for i in range(0, n):\n",
    "            aux = 0\n",
    "            aux2 = int(n_half + aux)\n",
    "            for j in range(0, n, 2):\n",
    "\n",
    "                sum = (matrix[i, j] + matrix[i, j+1]) / root2\n",
    "                dif = (matrix[i, j] - matrix[i, j+1]) / root2\n",
    "                transformed_matrix[i,aux] = sum\n",
    "                transformed_matrix[i,aux2] = dif\n",
    "                aux = aux + 1\n",
    "                aux2 = aux2 + 1\n",
    "        transformed_matrix2 = np.copy(transformed_matrix)\n",
    "        for j in range(0, n_half):\n",
    "            aux = 0\n",
    "            aux2 = int(n_half + aux)\n",
    "            for i in range(0, n, 2):\n",
    "\n",
    "                sum = (transformed_matrix[i, j] + transformed_matrix[i+1, j]) / root2\n",
    "                dif = (transformed_matrix[i, j] - transformed_matrix[i+1, j]) / root2\n",
    "\n",
    "                transformed_matrix2[aux,j] = sum\n",
    "                transformed_matrix2[aux2,j] = dif\n",
    "                aux = aux + 1\n",
    "                aux2 = aux2 + 1\n",
    "\n",
    "        transformed_matrix3 = transformed_matrix2[:n_half,:n_half]\n",
    "\n",
    "    return transformed_matrix2, transformed_matrix3\n",
    "\n",
    "image_result, image_aprox = haar_wavelet_transform(matriz)\n",
    "\n",
    "print(image_result)"
   ]
  },
  {
   "cell_type": "code",
   "execution_count": 14,
   "metadata": {},
   "outputs": [],
   "source": [
    "# def inverse_wavelet2D_V(output):\n",
    "#     N, N2, signal = output.shape[0], output.shape[0] // 2,np.zeros_like(output,dtype=float)\n",
    "#     for i in range(0, N-1, 2):\n",
    "#         signal[i, :] = (output[i//2, :] + output[i//2 + N2, :]) / root2\n",
    "#         signal[i+1, :] = (output[i//2, :] - output[i//2 + N2, :]) / root2\n",
    "#     return signal\n",
    "\n",
    "# def inverse_wavelet2D_H(output):\n",
    "#     N, N2, signal = output.shape[1], output.shape[1] // 2, np.zeros_like(output,dtype=float)\n",
    "#     for i in range(0, N-1, 2):\n",
    "#         signal[ :,i] = (output[ :,i//2] + output[ :,i//2 + N2]) / root2\n",
    "#         signal[ :,i+1] = (output[ :,i//2] - output[ :,i//2 + N2]) / root2\n",
    "#     # return signal\n",
    "#     return np.round(signal, decimals=2)"
   ]
  },
  {
   "attachments": {},
   "cell_type": "markdown",
   "metadata": {},
   "source": [
    "## Example with an Image"
   ]
  },
  {
   "cell_type": "code",
   "execution_count": 15,
   "metadata": {},
   "outputs": [],
   "source": [
    "import cv2\n",
    "import IPython\n",
    "import matplotlib.pyplot as plt\n",
    "\n",
    "\n",
    "def imshow(img):\n",
    "    _,ret = cv2.imencode('.jpg', img) \n",
    "    i = IPython.display.Image(data=ret)\n",
    "    IPython.display.display(i)"
   ]
  },
  {
   "cell_type": "code",
   "execution_count": 16,
   "metadata": {},
   "outputs": [
    {
     "name": "stderr",
     "output_type": "stream",
     "text": [
      "C:\\Users\\ZIGH\\AppData\\Local\\Temp\\ipykernel_9780\\2425618.py:13: RuntimeWarning: overflow encountered in ubyte_scalars\n",
      "  dif = (matrix[i, j] - matrix[i, j+1]) / root2\n",
      "C:\\Users\\ZIGH\\AppData\\Local\\Temp\\ipykernel_9780\\2425618.py:12: RuntimeWarning: overflow encountered in ubyte_scalars\n",
      "  sum = (matrix[i, j] + matrix[i, j+1]) / root2\n"
     ]
    },
    {
     "ename": "AttributeError",
     "evalue": "'tuple' object has no attribute 'shape'",
     "output_type": "error",
     "traceback": [
      "\u001b[1;31m---------------------------------------------------------------------------\u001b[0m",
      "\u001b[1;31mAttributeError\u001b[0m                            Traceback (most recent call last)",
      "Cell \u001b[1;32mIn[16], line 9\u001b[0m\n\u001b[0;32m      5\u001b[0m \u001b[39m# DIRECT WAVELET TRANSFORM \u001b[39;00m\n\u001b[0;32m      6\u001b[0m \u001b[39m# result = direct_wavelet2D_H(direct_wavelet2D_V(imgOr))\u001b[39;00m\n\u001b[0;32m      7\u001b[0m result \u001b[39m=\u001b[39m haar_wavelet_transform(imgOr)\n\u001b[1;32m----> 9\u001b[0m cA, cV, cH, cD \u001b[39m=\u001b[39m dividir_matriz(result)\n\u001b[0;32m     11\u001b[0m reconstructed \u001b[39m=\u001b[39m np\u001b[39m.\u001b[39mzeros_like(imgOr, dtype\u001b[39m=\u001b[39m\u001b[39mfloat\u001b[39m)\n\u001b[0;32m     12\u001b[0m reconstructed \u001b[39m=\u001b[39m inverse_wavelet2D_H(inverse_wavelet2D_V(result))\n",
      "Cell \u001b[1;32mIn[11], line 2\u001b[0m, in \u001b[0;36mdividir_matriz\u001b[1;34m(matriz)\u001b[0m\n\u001b[0;32m      1\u001b[0m \u001b[39mdef\u001b[39;00m \u001b[39mdividir_matriz\u001b[39m(matriz):\n\u001b[1;32m----> 2\u001b[0m     filas, columnas \u001b[39m=\u001b[39m matriz\u001b[39m.\u001b[39;49mshape\n\u001b[0;32m      3\u001b[0m     mitad_filas \u001b[39m=\u001b[39m filas \u001b[39m/\u001b[39m\u001b[39m/\u001b[39m \u001b[39m2\u001b[39m\n\u001b[0;32m      4\u001b[0m     mitad_columnas \u001b[39m=\u001b[39m columnas \u001b[39m/\u001b[39m\u001b[39m/\u001b[39m \u001b[39m2\u001b[39m\n",
      "\u001b[1;31mAttributeError\u001b[0m: 'tuple' object has no attribute 'shape'"
     ]
    }
   ],
   "source": [
    "imgOr = cv2.imread(('image_color.jpg'), cv2.IMREAD_GRAYSCALE)\n",
    "imgOr = cv2.resize(imgOr,(64,64))\n",
    "imgOr = np.array(imgOr)\n",
    "\n",
    "# DIRECT WAVELET TRANSFORM \n",
    "# result = direct_wavelet2D_H(direct_wavelet2D_V(imgOr))\n",
    "result = haar_wavelet_transform(imgOr)\n",
    "\n",
    "cA, cV, cH, cD = dividir_matriz(result)\n",
    "\n",
    "reconstructed = np.zeros_like(imgOr, dtype=float)\n",
    "reconstructed = inverse_wavelet2D_H(inverse_wavelet2D_V(result))\n",
    "\n",
    "fig, axes = plt.subplots(1, 3, figsize=(10, 10))\n",
    "axes[0].imshow(imgOr, cmap='gray')\n",
    "axes[0].set_title('Original')\n",
    "axes[1].imshow(reconstructed, cmap='gray')\n",
    "axes[1].set_title('Reconstructed')\n",
    "axes[2].imshow(result, cmap='gray')\n",
    "axes[2].set_title('Result')\n",
    "\n",
    "plt.tight_layout()\n",
    "plt.show()\n",
    "\n",
    "fig, axes = plt.subplots(1, 4, figsize=(10, 10))\n",
    "axes[0].imshow(cA, cmap='gray')\n",
    "axes[0].set_title('Aproximación')\n",
    "axes[1].imshow(cH, cmap='gray')\n",
    "axes[1].set_title('Horizontal')\n",
    "axes[2].imshow(cV, cmap='gray')\n",
    "axes[2].set_title('Vertical')\n",
    "axes[3].imshow(cD, cmap='gray')\n",
    "axes[3].set_title('Diagonal')\n",
    "\n",
    "plt.tight_layout()\n",
    "plt.show()"
   ]
  },
  {
   "cell_type": "code",
   "execution_count": null,
   "metadata": {},
   "outputs": [
    {
     "name": "stdout",
     "output_type": "stream",
     "text": [
      "Imagen original:\n",
      " [[107 111 110 ... 109 117 120]\n",
      " [121 121 101 ... 135 139 141]\n",
      " [116 115 117 ... 122 120 115]\n",
      " ...\n",
      " [102 109 110 ...  94  89  70]\n",
      " [ 87  87 104 ...  82  98  91]\n",
      " [ 71  69  81 ...  45  47  58]]\n",
      "\n",
      "Dir Wavelet:\n",
      " [[154 148 169 ... 109 117 120]\n",
      " [171 153 173 ... 135 139 141]\n",
      " [163 158 164 ... 122 120 115]\n",
      " ...\n",
      " [149 142 164 ...  94  89  70]\n",
      " [123 132 141 ...  82  98  91]\n",
      " [ 98 125 111 ...  45  47  58]]\n",
      "\n",
      "Inv Wavelet:\n",
      " [[  2.12  34.65   0.   ...  29.7   21.92  33.23]\n",
      " [ 25.46  35.36   1.41 ...  89.8  111.02  92.63]\n",
      " [ 10.61  38.89  12.73 ...  41.01  17.68  36.06]\n",
      " ...\n",
      " [142.13  68.59 128.69 ...  25.46 128.69  29.7 ]\n",
      " [116.67  57.28 120.21 ...  16.97 158.39  29.7 ]\n",
      " [ 98.99  39.6  115.26 ...  13.44  93.34  11.31]]\n"
     ]
    }
   ],
   "source": [
    "print(\"Imagen original:\\n\", imgOr)\n",
    "print(\"\\nDir Wavelet:\\n\", direct_wavelet2D_H(imgOr))\n",
    "print(\"\\nInv Wavelet:\\n\", inverse_wavelet2D_H(direct_wavelet2D_H(imgOr)))"
   ]
  }
 ],
 "metadata": {
  "kernelspec": {
   "display_name": "Python 3",
   "language": "python",
   "name": "python3"
  },
  "language_info": {
   "codemirror_mode": {
    "name": "ipython",
    "version": 3
   },
   "file_extension": ".py",
   "mimetype": "text/x-python",
   "name": "python",
   "nbconvert_exporter": "python",
   "pygments_lexer": "ipython3",
   "version": "3.10.11"
  },
  "orig_nbformat": 4
 },
 "nbformat": 4,
 "nbformat_minor": 2
}
