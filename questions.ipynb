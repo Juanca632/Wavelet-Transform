{
 "cells": [
  {
   "attachments": {},
   "cell_type": "markdown",
   "metadata": {},
   "source": [
    "# Que Wavelet usar?\n",
    "\n",
    "Elegir la wavelet adecuada depende del tipo de señal o imagen que estés procesando y del objetivo específico que tengas en mente. Aquí hay algunos factores que puedes considerar al seleccionar una wavelet:\n",
    "\n",
    "Características de la señal: Observa las características de la señal, como su contenido espectral, suavidad o discontinuidades. Por ejemplo, si la señal tiene componentes de alta frecuencia y discontinuidades, puede ser beneficioso utilizar una wavelet que tenga buena resolución en frecuencias altas y una respuesta suave en el dominio del tiempo.\n",
    "\n",
    "Propiedades deseadas: Determina qué propiedades deseas en la transformada wavelet. Algunas wavelets tienen propiedades específicas, como ser ortogonales, tener soporte compacto o ser simétricas. Por ejemplo, las wavelets de Daubechies tienen soporte compacto y son ampliamente utilizadas para la compresión de señales.\n",
    "\n",
    "Número de coeficientes: Considera el número de coeficientes utilizado por la wavelet. Wavelets como 'db2' tienen solo dos coeficientes, lo que las hace eficientes para aplicaciones de compresión, mientras que wavelets con más coeficientes, como 'db8' o 'db16', pueden capturar detalles más finos.\n",
    "\n",
    "Experimentación: A veces, la mejor manera de seleccionar una wavelet es mediante la experimentación. Puedes probar diferentes wavelets y comparar los resultados en función de tus criterios de evaluación, como la calidad de reconstrucción, la capacidad de compresión o la capacidad para resaltar ciertas características de interés.\n",
    "\n",
    "Además, es posible que haya wavelets específicas recomendadas para ciertos dominios o aplicaciones. Por ejemplo, en el procesamiento de imágenes, la wavelet de Haar es popular para la detección de bordes, mientras que la wavelet biortogonal 9/7 es ampliamente utilizada en compresión de imágenes JPEG2000.\n",
    "\n",
    "En última instancia, la elección de la wavelet es un proceso empírico y depende del contexto y los requisitos específicos de tu aplicación. Te recomendaría explorar diferentes wavelets, comprender sus propiedades y probarlas en tus datos para determinar cuál funciona mejor para tus necesidades."
   ]
  },
  {
   "attachments": {},
   "cell_type": "markdown",
   "metadata": {},
   "source": [
    "# Conceptos\n",
    "\n",
    "\n",
    "## Ortogonalidad: \n",
    "Una wavelet se considera ortogonal cuando su función wavelet y su función de escala (filtro de escala) son ortogonales entre sí. Esto significa que al convolucionar la señal con la wavelet y la función de escala, los coeficientes obtenidos son mutuamente no correlacionados. La ortogonalidad puede ser útil en muchas aplicaciones, como la compresión de señales o imágenes, ya que permite una reconstrucción exacta a partir de los coeficientes.\n",
    "\n",
    "## Soporte compacto: \n",
    "El soporte de una wavelet se refiere a la región del dominio en la que la wavelet es diferente de cero. Una wavelet con soporte compacto significa que tiene un intervalo de soporte finito. En otras palabras, la wavelet solo tiene influencia local en la señal. Esta propiedad es especialmente útil en aplicaciones donde se desea un análisis localizado, ya que permite capturar características locales de la señal o imagen.\n",
    "\n",
    "## Simetría: \n",
    "Una wavelet se considera simétrica cuando su forma es simétrica alrededor de un punto central. Esto significa que la parte positiva y la parte negativa de la wavelet tienen formas similares pero opuestas. La simetría puede ser útil en ciertas aplicaciones, como el procesamiento de imágenes, ya que ayuda a preservar la simetría y la forma de las estructuras en la imagen durante la descomposición y reconstrucción wavelet.\n",
    "\n",
    "Estas propiedades pueden ser beneficiosas en diferentes contextos y aplicaciones, dependiendo de los objetivos y requisitos específicos. Por ejemplo, las wavelets ortogonales pueden ser preferidas en aplicaciones de compresión debido a su capacidad para una reconstrucción exacta, mientras que las wavelets con soporte compacto pueden ser útiles en aplicaciones donde se desea un análisis localizado. La elección de una wavelet específica dependerá de las características de la señal o imagen y de los objetivos de procesamiento que se deseen alcanzar."
   ]
  },
  {
   "cell_type": "code",
   "execution_count": null,
   "metadata": {},
   "outputs": [],
   "source": []
  }
 ],
 "metadata": {
  "language_info": {
   "name": "python"
  },
  "orig_nbformat": 4
 },
 "nbformat": 4,
 "nbformat_minor": 2
}
